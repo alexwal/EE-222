{
 "cells": [
  {
   "cell_type": "raw",
   "metadata": {},
   "source": [
    "<script>\n",
    "  function code_toggle() {\n",
    "    if (code_shown){\n",
    "      $('div.input').hide('500');\n",
    "      $('#toggleButton').val('Show Code')\n",
    "    } else {\n",
    "      $('div.input').show('500');\n",
    "      $('#toggleButton').val('Hide Code')\n",
    "    }\n",
    "    code_shown = !code_shown\n",
    "  }\n",
    "\n",
    "  $( document ).ready(function(){\n",
    "    code_shown=false;\n",
    "    $('div.input').hide()\n",
    "  });\n",
    "</script>\n",
    "<form action=\"javascript:code_toggle()\"><input type=\"submit\" id=\"toggleButton\" value=\"Show Code\"></form>"
   ]
  },
  {
   "cell_type": "markdown",
   "metadata": {},
   "source": [
    "# Alex Walczak | EE 222 | HW 10 | Spring 2017\n",
    "#### https://inst.eecs.berkeley.edu/~ee222/sp17/homework_sp17/problem10.pdf"
   ]
  },
  {
   "cell_type": "code",
   "execution_count": 1,
   "metadata": {
    "collapsed": true
   },
   "outputs": [],
   "source": [
    "# Import libraries\n",
    "# Created with Python 2.7\n",
    "%matplotlib inline\n",
    "from __future__ import division\n",
    "import numpy as np\n",
    "import sympy\n",
    "from sympy import *\n",
    "init_printing(use_latex='mathjax') # initialize pretty printing\n",
    "from IPython.display import display # use instead of 'print' for pretty printing"
   ]
  },
  {
   "cell_type": "markdown",
   "metadata": {},
   "source": [
    "# Problem 1: Magnetic Levitation System\n",
    "### Setup"
   ]
  },
  {
   "cell_type": "code",
   "execution_count": 2,
   "metadata": {
    "collapsed": false,
    "scrolled": true
   },
   "outputs": [
    {
     "name": "stdout",
     "output_type": "stream",
     "text": [
      "Examine system dynamics in symbolic form\n"
     ]
    },
    {
     "data": {
      "text/latex": [
       "$$\\left[\\begin{matrix}x_{2}\\\\G - \\frac{L_{0} a x_{3}^{2}}{2 m \\left(a + x_{1}\\right)^{2}} - \\frac{k x_{2}}{m}\\\\\\frac{u}{L_{0} + \\frac{L_{1}}{1 + \\frac{x_{1}}{a}}} + \\frac{\\frac{L_{0} a x_{2} x_{3}}{\\left(a + x_{1}\\right)^{2}} - R x_{3}}{L_{0} + \\frac{L_{1}}{1 + \\frac{x_{1}}{a}}}\\end{matrix}\\right]$$"
      ],
      "text/plain": [
       "⎡              x₂               ⎤\n",
       "⎢                               ⎥\n",
       "⎢                 2             ⎥\n",
       "⎢          L₀⋅a⋅x₃      k⋅x₂    ⎥\n",
       "⎢   G - ───────────── - ────    ⎥\n",
       "⎢                   2    m      ⎥\n",
       "⎢       2⋅m⋅(a + x₁)            ⎥\n",
       "⎢                               ⎥\n",
       "⎢              L₀⋅a⋅x₂⋅x₃       ⎥\n",
       "⎢              ────────── - R⋅x₃⎥\n",
       "⎢                      2        ⎥\n",
       "⎢     u        (a + x₁)         ⎥\n",
       "⎢─────────── + ─────────────────⎥\n",
       "⎢       L₁               L₁     ⎥\n",
       "⎢L₀ + ──────      L₀ + ──────   ⎥\n",
       "⎢         x₁               x₁   ⎥\n",
       "⎢     1 + ──           1 + ──   ⎥\n",
       "⎣         a                a    ⎦"
      ]
     },
     "metadata": {},
     "output_type": "display_data"
    },
    {
     "name": "stdout",
     "output_type": "stream",
     "text": [
      "Examine equilibria in symbolic form\n"
     ]
    },
    {
     "data": {
      "text/latex": [
       "$$\\left [ \\left ( - a - \\frac{\\sqrt{2} u \\sqrt{G L_{0} a m}}{2 G R m}, \\quad 0, \\quad \\frac{u}{R}\\right ), \\quad \\left ( - a + \\frac{\\sqrt{2} u \\sqrt{G L_{0} a m}}{2 G R m}, \\quad 0, \\quad \\frac{u}{R}\\right )\\right ]$$"
      ],
      "text/plain": [
       "⎡⎛            __________      ⎞  ⎛            __________      ⎞⎤\n",
       "⎢⎜     √2⋅u⋅╲╱ G⋅L₀⋅a⋅m      u⎟  ⎜     √2⋅u⋅╲╱ G⋅L₀⋅a⋅m      u⎟⎥\n",
       "⎢⎜-a - ─────────────────, 0, ─⎟, ⎜-a + ─────────────────, 0, ─⎟⎥\n",
       "⎣⎝          2⋅G⋅R⋅m          R⎠  ⎝          2⋅G⋅R⋅m          R⎠⎦"
      ]
     },
     "metadata": {},
     "output_type": "display_data"
    },
    {
     "name": "stdout",
     "output_type": "stream",
     "text": [
      "Examine Jacobian in symbolic form\n"
     ]
    },
    {
     "data": {
      "text/latex": [
       "$$\\left[\\begin{matrix}0 & 1 & 0\\\\\\frac{L_{0} a x_{3}^{2}}{m \\left(a + x_{1}\\right)^{3}} & - \\frac{k}{m} & - \\frac{L_{0} a x_{3}}{m \\left(a + x_{1}\\right)^{2}}\\\\- \\frac{2 L_{0} a x_{2} x_{3}}{\\left(L_{0} + \\frac{L_{1}}{1 + \\frac{x_{1}}{a}}\\right) \\left(a + x_{1}\\right)^{3}} + \\frac{L_{1} u}{a \\left(1 + \\frac{x_{1}}{a}\\right)^{2} \\left(L_{0} + \\frac{L_{1}}{1 + \\frac{x_{1}}{a}}\\right)^{2}} + \\frac{L_{1} \\left(\\frac{L_{0} a x_{2} x_{3}}{\\left(a + x_{1}\\right)^{2}} - R x_{3}\\right)}{a \\left(1 + \\frac{x_{1}}{a}\\right)^{2} \\left(L_{0} + \\frac{L_{1}}{1 + \\frac{x_{1}}{a}}\\right)^{2}} & \\frac{L_{0} a x_{3}}{\\left(L_{0} + \\frac{L_{1}}{1 + \\frac{x_{1}}{a}}\\right) \\left(a + x_{1}\\right)^{2}} & \\frac{\\frac{L_{0} a x_{2}}{\\left(a + x_{1}\\right)^{2}} - R}{L_{0} + \\frac{L_{1}}{1 + \\frac{x_{1}}{a}}}\\end{matrix}\\right]$$"
      ],
      "text/plain": [
       "⎡                                         0                                   \n",
       "⎢                                                                             \n",
       "⎢                                             2                               \n",
       "⎢                                      L₀⋅a⋅x₃                                \n",
       "⎢                                    ───────────                              \n",
       "⎢                                              3                              \n",
       "⎢                                    m⋅(a + x₁)                               \n",
       "⎢                                                                             \n",
       "⎢                                                              ⎛L₀⋅a⋅x₂⋅x₃    \n",
       "⎢                                                           L₁⋅⎜────────── - R\n",
       "⎢                                                              ⎜        2     \n",
       "⎢        2⋅L₀⋅a⋅x₂⋅x₃                   L₁⋅u                   ⎝(a + x₁)      \n",
       "⎢- ─────────────────────── + ────────────────────────── + ────────────────────\n",
       "⎢  ⎛       L₁  ⎞         3             2              2             2         \n",
       "⎢  ⎜L₀ + ──────⎟⋅(a + x₁)      ⎛    x₁⎞  ⎛       L₁  ⎞      ⎛    x₁⎞  ⎛       \n",
       "⎢  ⎜         x₁⎟             a⋅⎜1 + ──⎟ ⋅⎜L₀ + ──────⎟    a⋅⎜1 + ──⎟ ⋅⎜L₀ + ──\n",
       "⎢  ⎜     1 + ──⎟               ⎝    a ⎠  ⎜         x₁⎟      ⎝    a ⎠  ⎜       \n",
       "⎢  ⎝         a ⎠                         ⎜     1 + ──⎟                ⎜     1 \n",
       "⎣                                        ⎝         a ⎠                ⎝       \n",
       "\n",
       "                   1                   0      ⎤\n",
       "                                              ⎥\n",
       "                                              ⎥\n",
       "                  -k               -L₀⋅a⋅x₃   ⎥\n",
       "                  ───             ─────────── ⎥\n",
       "                   m                        2 ⎥\n",
       "                                  m⋅(a + x₁)  ⎥\n",
       "                                              ⎥\n",
       "   ⎞                              L₀⋅a⋅x₂     ⎥\n",
       "⋅x₃⎟                             ───────── - R⎥\n",
       "   ⎟                                     2    ⎥\n",
       "   ⎠            L₀⋅a⋅x₃          (a + x₁)     ⎥\n",
       "──────  ───────────────────────  ─────────────⎥\n",
       "     2  ⎛       L₁  ⎞         2          L₁   ⎥\n",
       "L₁  ⎞   ⎜L₀ + ──────⎟⋅(a + x₁)    L₀ + ────── ⎥\n",
       "────⎟   ⎜         x₁⎟                      x₁ ⎥\n",
       "  x₁⎟   ⎜     1 + ──⎟                  1 + ── ⎥\n",
       "+ ──⎟   ⎝         a ⎠                      a  ⎥\n",
       "  a ⎠                                         ⎦"
      ]
     },
     "metadata": {},
     "output_type": "display_data"
    }
   ],
   "source": [
    "# Add symbols to namespace\n",
    "var('x1 x2 x3 G k m L0 L1 a R u')\n",
    "\n",
    "# Helper function L(x1)\n",
    "def L(x1_val):\n",
    "    x1 = Symbol('x1')\n",
    "    expr = L0 + L1 / (1 + x1 / a)\n",
    "    return expr.subs(x1, x1_val)\n",
    "\n",
    "# System dynamics (xi' = fi(x))\n",
    "f1 = x2\n",
    "f2 = G - (k / m) * x2 - L0 * a * x3 ** 2 / (2 * m * (a + x1) ** 2)\n",
    "f3 = (1 / L(x1)) * (-R * x3 + L0 * a * x2 * x3 / (a + x1) ** 2)\n",
    "f = Matrix([f1, f2, f3])\n",
    "g = Matrix([0, 0, 1 / L(x1)])\n",
    "x_prime = f + g * u\n",
    "x = Matrix([x1, x2, x3])\n",
    "print('Examine system dynamics in symbolic form')\n",
    "display(x_prime)\n",
    "\n",
    "# Examine equilibria in symbolic form\n",
    "print('Examine equilibria in symbolic form')\n",
    "display(solve(x_prime, x))\n",
    "\n",
    "# Examine Jacobian in symbolic form\n",
    "print('Examine Jacobian in symbolic form')\n",
    "J = x_prime.jacobian(x)\n",
    "display(J)"
   ]
  },
  {
   "cell_type": "markdown",
   "metadata": {},
   "source": [
    "### 1(a): Find $i_{ss}$, $v_{ss}$ when $y$ is identically $0.05$ m."
   ]
  },
  {
   "cell_type": "code",
   "execution_count": 3,
   "metadata": {
    "collapsed": false,
    "scrolled": true
   },
   "outputs": [
    {
     "name": "stdout",
     "output_type": "stream",
     "text": [
      "Set state to desired and solve for i_ss, v_ss, checking if solution makes sense:\n"
     ]
    },
    {
     "data": {
      "text/latex": [
       "$$\\left ( 1.9809088823063, \\quad 19.809088823063\\right )$$"
      ],
      "text/plain": [
       "(1.9809088823063, 19.809088823063)"
      ]
     },
     "metadata": {},
     "output_type": "display_data"
    }
   ],
   "source": [
    "# If yD = x1D = 0.05 and yD' = x2D = 0.00 occurs at an equilibrium point,\n",
    "# then we must be able to find some x3D and u\n",
    "# such that x' = f(x, u) = 0.\n",
    "\n",
    "# Set parameters\n",
    "G = 9.81\n",
    "k = 0.001\n",
    "R = 10.\n",
    "m = 0.01\n",
    "a = 0.05\n",
    "L0 = 0.01\n",
    "L1 = 0.02\n",
    "\n",
    "# Reset dynamic equations with parameters set to above values.\n",
    "f1 = x2\n",
    "f2 = G - (k / m) * x2 - L0 * a * x3 ** 2 / (2 * m * (a + x1) ** 2)\n",
    "f3 = (1 / L(x1)) * (-R * x3 + L0 * a * x2 * x3 / (a + x1) ** 2)\n",
    "f = Matrix([f1, f2, f3])\n",
    "g = Matrix([0, 0, 1 / L(x1)])\n",
    "x_prime = f + g * u\n",
    "x = Matrix([x1, x2, x3])\n",
    "\n",
    "# Set state so that we assume we've reached constant yD = 0.05. Also recompute Jacobian.\n",
    "J = x_prime.jacobian(x)\n",
    "J = J.subs([(x1, 0.05), (x2, 0.00)])\n",
    "\n",
    "# Solve for s.s. current and input voltage at yD. Check if solution exists and makes sense.\n",
    "print('Set state to desired and solve for i_ss, v_ss, checking if solution makes sense:')\n",
    "x_prime = x_prime.subs([(x1 , 0.05), (x2, 0.00)])\n",
    "ss = solve(x_prime, x3, u)[1]  # (solves x' = 0), takes first/second (negative/positive) solution.\n",
    "display(ss)\n",
    "i_ss, v_ss = ss"
   ]
  },
  {
   "cell_type": "markdown",
   "metadata": {},
   "source": [
    "### Discussion 1(a)\n",
    "We have shown that $x_3 = i_{ss} = 1.981$ A, and $u = v_{ss} = R \\cdot i_{ss} = 19.81$ V as Ohm's Law predicts. Since a solution to $f(x, u) = 0$ exists, we know $y$ identically 0.05 m is an equilibrium."
   ]
  },
  {
   "cell_type": "markdown",
   "metadata": {},
   "source": [
    "### 1(b): Show instability of above equilibrium."
   ]
  },
  {
   "cell_type": "code",
   "execution_count": 4,
   "metadata": {
    "collapsed": false
   },
   "outputs": [
    {
     "name": "stdout",
     "output_type": "stream",
     "text": [
      "Jacobian evaluated at equilibrium:\n"
     ]
    },
    {
     "data": {
      "text/latex": [
       "$$\\left[\\begin{matrix}0 & 1.0 & 0\\\\196.2 & -0.1 & -9.905\\\\0 & 4.952 & -500.0\\end{matrix}\\right]$$"
      ],
      "text/plain": [
       "⎡  0     1.0     0   ⎤\n",
       "⎢                    ⎥\n",
       "⎢196.2  -0.1   -9.905⎥\n",
       "⎢                    ⎥\n",
       "⎣  0    4.952  -500.0⎦"
      ]
     },
     "metadata": {},
     "output_type": "display_data"
    },
    {
     "name": "stdout",
     "output_type": "stream",
     "text": [
      "Eigenvalues:\n"
     ]
    },
    {
     "data": {
      "text/latex": [
       "$$\\left \\{ -499.903347144138 : 1, \\quad -14.1079533207851 : 1, \\quad 13.9097379649227 : 1\\right \\}$$"
      ],
      "text/plain": [
       "{-499.903347144138: 1, -14.1079533207851: 1, 13.9097379649227: 1}"
      ]
     },
     "execution_count": 4,
     "metadata": {},
     "output_type": "execute_result"
    }
   ],
   "source": [
    "J_at_eq = J.evalf(4, subs={x3 : i_ss, u: v_ss}, chop=True)\n",
    "print('Jacobian evaluated at equilibrium:')\n",
    "display(J_at_eq)\n",
    "print('Eigenvalues:')\n",
    "J_at_eq.berkowitz_eigenvals() "
   ]
  },
  {
   "cell_type": "markdown",
   "metadata": {},
   "source": [
    "### 1(b) Discussion\n",
    "The eigenvalues of the Jacobian evaluated at the equilibrium (-499.9, -14.1, 13.9) do not all lie in the open left half plane, so the equilibrium is unstable."
   ]
  },
  {
   "cell_type": "markdown",
   "metadata": {},
   "source": [
    "### 1(c): Design a state feedback control law to stabilize the ball at desired position $y_D = 0.05$."
   ]
  },
  {
   "cell_type": "code",
   "execution_count": 5,
   "metadata": {
    "collapsed": false
   },
   "outputs": [
    {
     "name": "stdout",
     "output_type": "stream",
     "text": [
      "System dynamics with parameter values substituted:\n"
     ]
    },
    {
     "data": {
      "text/latex": [
       "$$\\left[\\begin{matrix}x_{2}\\\\- 0.1 x_{2} - \\frac{0.025 x_{3}^{2}}{\\left(x_{1} + 0.05\\right)^{2}} + 9.81\\\\\\frac{u}{0.01 + \\frac{0.02}{20.0 x_{1} + 1}} + \\frac{\\frac{0.0005 x_{2} x_{3}}{\\left(x_{1} + 0.05\\right)^{2}} - 10.0 x_{3}}{0.01 + \\frac{0.02}{20.0 x_{1} + 1}}\\end{matrix}\\right]$$"
      ],
      "text/plain": [
       "⎡                    x₂                     ⎤\n",
       "⎢                                           ⎥\n",
       "⎢                          2                ⎥\n",
       "⎢                  0.025⋅x₃                 ⎥\n",
       "⎢       -0.1⋅x₂ - ──────────── + 9.81       ⎥\n",
       "⎢                            2              ⎥\n",
       "⎢                 (x₁ + 0.05)               ⎥\n",
       "⎢                                           ⎥\n",
       "⎢                     0.0005⋅x₂⋅x₃          ⎥\n",
       "⎢                     ──────────── - 10.0⋅x₃⎥\n",
       "⎢                                2          ⎥\n",
       "⎢        u            (x₁ + 0.05)           ⎥\n",
       "⎢────────────────── + ──────────────────────⎥\n",
       "⎢           0.02                   0.02     ⎥\n",
       "⎢0.01 + ───────────     0.01 + ───────────  ⎥\n",
       "⎣       20.0⋅x₁ + 1            20.0⋅x₁ + 1  ⎦"
      ]
     },
     "metadata": {},
     "output_type": "display_data"
    },
    {
     "name": "stdout",
     "output_type": "stream",
     "text": [
      "Output:\n"
     ]
    },
    {
     "data": {
      "text/latex": [
       "$$\\left[\\begin{matrix}x_{1}\\end{matrix}\\right]$$"
      ],
      "text/plain": [
       "[x₁]"
      ]
     },
     "metadata": {},
     "output_type": "display_data"
    }
   ],
   "source": [
    "# Dynamic equations (with parameters set).\n",
    "f1 = x2\n",
    "f2 = G - (k / m) * x2 - L0 * a * x3 ** 2 / (2 * m * (a + x1) ** 2)\n",
    "f3 = (1 / L(x1)) * (-R * x3 + L0 * a * x2 * x3 / (a + x1) ** 2)\n",
    "f = Matrix([f1, f2, f3])\n",
    "g = Matrix([0, 0, 1 / L(x1)])\n",
    "x_prime = f + g * u\n",
    "x = Matrix([x1, x2, x3])\n",
    "\n",
    "print('System dynamics with parameter values substituted:')\n",
    "display(x_prime)\n",
    "\n",
    "# Output\n",
    "y = Matrix([x1]) # Want to regulate output to 0.05 m.\n",
    "def h(x):\n",
    "    return y.subs(x, x)\n",
    "\n",
    "print('Output:')\n",
    "display(h(x))\n",
    "\n",
    "# Lie derivative helper functions.\n",
    "def gradient(scalar_function, variables):\n",
    "    # gradient multivar scalar function (row vector of partial derivaties)\n",
    "    matrix_scalar_function = Matrix([scalar_function])\n",
    "    return matrix_scalar_function.jacobian(variables)\n",
    "\n",
    "\n",
    "def LieD(func, along_trajectories_of, with_variables):\n",
    "    # Computes the Lie derivative (wrt time) of func (always scalar?) along trajectories of a vector field.\n",
    "    return gradient(func, with_variables).dot(along_trajectories_of)"
   ]
  },
  {
   "cell_type": "markdown",
   "metadata": {},
   "source": [
    "### Differentiate output $h$ until input $u$ appears."
   ]
  },
  {
   "cell_type": "code",
   "execution_count": 6,
   "metadata": {
    "collapsed": false
   },
   "outputs": [
    {
     "name": "stdout",
     "output_type": "stream",
     "text": [
      "Relative degree is: 3\n"
     ]
    }
   ],
   "source": [
    "def find_relative_degree(f, g, x, h):\n",
    "    # of SISO system: x' = f(x) + g(x) * u, y = h(x).\n",
    "    # Assuming h is not already a function of the input.\n",
    "    r = 0\n",
    "    L_prev_f_h = h\n",
    "    while True:\n",
    "        L_cur_f_h        =   LieD(L_prev_f_h, f, x)\n",
    "        L_g_L_prev_f_h   =   LieD(L_prev_f_h, g, x)\n",
    "        r += 1\n",
    "        if L_g_L_prev_f_h != 0: # good: input has shown up in rth derivative of output\n",
    "                                # (Note to self: shouldn't I be checking if magnitude bounded\n",
    "                                # away from 0 in some nbhd of the eq. pt?)\n",
    "            \n",
    "            # Uncomment below three lines to view final Lie derivatives.\n",
    "            # print \"L_cur_f_h, L_g_L_prev_f_h:\"\n",
    "            # display(L_cur_f_h)\n",
    "            # display(L_g_L_prev_f_h)\n",
    "            break\n",
    "        if L_cur_f_h == 0: # bad: if happens would never terminate.\n",
    "            print 'Error!'\n",
    "            return -1\n",
    "        L_prev_f_h = L_cur_f_h\n",
    "    return r\n",
    "\n",
    "print 'Relative degree is: ' + str(find_relative_degree(f, g, x, y))"
   ]
  },
  {
   "cell_type": "markdown",
   "metadata": {},
   "source": [
    "### Discussion 1(c)\n",
    "It has been shown the relative degree of the system is $3$. Thus LgLf2_h = $\\frac{0.05 x_3}{(0.01 + \\frac{0.02}{20.0 x_1 + 1}) (x_1 + 0.05)^{2}}$, and choosing $u$ according to lecture 22-1 with coefficients ensuring poles in OLHP will let us regulate output to $y_D$."
   ]
  },
  {
   "cell_type": "markdown",
   "metadata": {},
   "source": [
    "### 1(d): Discuss how the DOA of the desired equilibrium using this control law would compare to that using a standard linear control law, computed from a Jacobian linearization of the maglev system.\n",
    "\n",
    "### Discussion\n",
    "Since the relative degree is $\\gamma = n = 3$, the system is **full state linearizable**, and thus minimum phase (trivial zero dynamics). With the above feedback linearizing control law, we can achieve globally asymptotically stable tracking of $y_D$ (by Lecture 22-1), so the DOA is $\\mathbb{R}^3$\n",
    "\n",
    "With a standard linear control law using the Jacobian linearization, we would be linearizing highly nonlinear dynamics about an unstable equilibrium point, so we would expect the DOA to be a small neighborhood."
   ]
  },
  {
   "cell_type": "markdown",
   "metadata": {},
   "source": [
    "# Problem 2: Conventional Take-Off and Landing (CTOL) Aircraft Control\n",
    "### Setup"
   ]
  },
  {
   "cell_type": "code",
   "execution_count": 15,
   "metadata": {
    "collapsed": false
   },
   "outputs": [],
   "source": [
    "# Add variables to namespace\n",
    "# Notation: (...)_kp = kth time derivative of (...)\n",
    "from sympy.abc import alpha, gamma, epsilon, theta\n",
    "var('x z x_p z_p x_2p z_2p theta_p theta_2p u1 u2 a_L a_D L D c')\n",
    "\n",
    "gamma = atan(z_p / x_p)\n",
    "alpha = theta - gamma\n",
    "L = a_L * (x_p ** 2 + z_p ** 2) * (1 + c * alpha)\n",
    "D = a_D * (x_p ** 2 + z_p ** 2)\n",
    "theta_2p = u2\n",
    "\n",
    "# Rotation matrix\n",
    "def R(theta):\n",
    "    Rot = Matrix([\n",
    "        [cos(theta),-sin(theta)],\n",
    "        [sin(theta), cos(theta)]])\n",
    "    return Rot\n",
    "\n",
    "# We'll define full state: s = (x', x, z', z, theta', theta).\n",
    "s = Matrix([x_p, x, z_p, z, theta_p, theta])\n",
    "f_pre = R(theta) * R(alpha).T * Matrix([-D, L]) + Matrix([0, -1])\n",
    "g1_pre = R(theta) * Matrix([1, 0])\n",
    "g2_pre = R(theta) * Matrix([0, epsilon])\n",
    "\n",
    "# System dynamics\n",
    "f  = Matrix([  f_pre[0],   x_p,   f_pre[1],   z_p,   0,   theta_p ])\n",
    "g1 = Matrix([ g1_pre[0],     0,  g1_pre[1],     0,   0,         0 ])\n",
    "g2 = Matrix([ g2_pre[0],     0,  g2_pre[1],     0,   1,         0 ])\n",
    "\n",
    "s_p = f + g1 * u1 + g2 * u2\n",
    "\n",
    "# Output\n",
    "def h1(s):\n",
    "    M = Matrix([0, 1, 0, 0, 0, 0])\n",
    "    return M.dot(s)\n",
    "    \n",
    "def h2(s):\n",
    "    M = Matrix([0, 0, 0, 1, 0, 0])\n",
    "    return M.dot(s)    \n",
    "\n",
    "y1 = h1(s)\n",
    "y2 = h2(s)"
   ]
  },
  {
   "cell_type": "markdown",
   "metadata": {},
   "source": [
    "### Problem 2 continued.\n",
    "#### Linearize the system from the inputs u1, u2 to the outputs y1 = x, y2 = z. Give the linearizing control law. "
   ]
  },
  {
   "cell_type": "code",
   "execution_count": 16,
   "metadata": {
    "collapsed": false
   },
   "outputs": [],
   "source": [
    "# Add auxiliary variables v1, v2 to namespace (used to set control law u).\n",
    "var('v1 v2')\n",
    "\n",
    "def find_vector_relative_degree(f, g1, g2, s, h1, h2):\n",
    "    # of MIMO (TITO) system: s' = f(s) + g1(s) * u1 + g2(s) * u2; y1 = h1(s), y2 = h2(s).\n",
    "    # Assuming h1, h2 not already functions of the inputs.\n",
    "\n",
    "    # We'll test singularity of a matrix A to determine if the systems has vector relative degree (r1, r2).\n",
    "    A00, A01, A02, A03 = -1,-1,-1,-1 # See EE 222 lecture notes 18 page 13.\n",
    "    L_r1_f_h1, L_r2_f_h2 = None, None # Will set later.\n",
    "    \n",
    "    # Do one at a time. Start with differentiating y1 until u1 OR u2 appears.\n",
    "    L_prev_f_h = h1\n",
    "    r1 = 0\n",
    "    while True:\n",
    "        L_cur_f_h        =   LieD(L_prev_f_h,  f, s)\n",
    "        L_g1_L_prev_f_h  =   LieD(L_prev_f_h, g1, s)\n",
    "        L_g2_L_prev_f_h  =   LieD(L_prev_f_h, g2, s)\n",
    "        r1 += 1\n",
    "        if L_g1_L_prev_f_h != 0 or L_g2_L_prev_f_h != 0: # good: input has shown up in r1-th derivative of output\n",
    "                                # (Note to self: shouldn't I be checking if magnitude bounded\n",
    "                                # away from 0 in some nbhd of the eq. pt?)\n",
    "            print \"u appeared! (1)\"\n",
    "            A00, A01 = L_g1_L_prev_f_h, L_g2_L_prev_f_h\n",
    "            L_r1_f_h1 = L_cur_f_h # r1-th Lie derivative of h1 along f.\n",
    "            break\n",
    "        if L_cur_f_h == 0: # bad: if happens and previous conditions failed, alg would never terminate.\n",
    "            print 'Error! ' + str(r1)\n",
    "            r1 = -1\n",
    "            break\n",
    "        L_prev_f_h = L_cur_f_h\n",
    "    \n",
    "    # Now, differentiate y2 until u1 OR u2 appears.\n",
    "    L_prev_f_h = h2\n",
    "    r2 = 0\n",
    "    while True:\n",
    "        L_cur_f_h        =   LieD(L_prev_f_h,  f, s)\n",
    "        L_g1_L_prev_f_h  =   LieD(L_prev_f_h, g1, s)\n",
    "        L_g2_L_prev_f_h  =   LieD(L_prev_f_h, g2, s)\n",
    "        r2 += 1\n",
    "        if L_g1_L_prev_f_h != 0 or L_g2_L_prev_f_h != 0: # good: input has shown up in r2-th derivative of output\n",
    "            print \"u appeared! (2)\"\n",
    "            A10, A11 = L_g1_L_prev_f_h, L_g2_L_prev_f_h\n",
    "            L_r2_f_h2 = L_cur_f_h # r2-th Lie derivative of h2 along f.\n",
    "            break\n",
    "        if L_cur_f_h == 0: # bad: if happens and previous conditions failed, alg would never terminate.\n",
    "            print 'Error! ' + str(r2)\n",
    "            r2 = -1\n",
    "            break\n",
    "        L_prev_f_h = L_cur_f_h\n",
    "\n",
    "    assert r1 != -1 and r2 != -1, 'Error! (3)'\n",
    "    \n",
    "    print('A(s):')\n",
    "    A = Matrix([[A00, A01],[A10, A11]])\n",
    "    display(A)\n",
    "    \n",
    "    print(\"Determinant of A(s):\")\n",
    "    display(A.det())\n",
    "    \n",
    "    print(\"Inverse of A(s):\")\n",
    "    display(Inverse(A))\n",
    "    \n",
    "    iA = Inverse(A)\n",
    "    u = -iA * Matrix([L_r1_f_h1, L_r2_f_h2]) + iA * Matrix([v1, v2])\n",
    "    \n",
    "    return r1, r2, u"
   ]
  },
  {
   "cell_type": "code",
   "execution_count": 17,
   "metadata": {
    "collapsed": false,
    "scrolled": true
   },
   "outputs": [
    {
     "name": "stdout",
     "output_type": "stream",
     "text": [
      "u appeared! (1)\n",
      "u appeared! (2)\n",
      "A(s):\n"
     ]
    },
    {
     "data": {
      "text/latex": [
       "$$\\left[\\begin{matrix}\\cos{\\left (\\theta \\right )} & - \\epsilon \\sin{\\left (\\theta \\right )}\\\\\\sin{\\left (\\theta \\right )} & \\epsilon \\cos{\\left (\\theta \\right )}\\end{matrix}\\right]$$"
      ],
      "text/plain": [
       "⎡cos(θ)  -ε⋅sin(θ)⎤\n",
       "⎢                 ⎥\n",
       "⎣sin(θ)  ε⋅cos(θ) ⎦"
      ]
     },
     "metadata": {},
     "output_type": "display_data"
    },
    {
     "name": "stdout",
     "output_type": "stream",
     "text": [
      "Determinant of A(s):\n"
     ]
    },
    {
     "data": {
      "text/latex": [
       "$$\\epsilon \\sin^{2}{\\left (\\theta \\right )} + \\epsilon \\cos^{2}{\\left (\\theta \\right )}$$"
      ],
      "text/plain": [
       "     2           2   \n",
       "ε⋅sin (θ) + ε⋅cos (θ)"
      ]
     },
     "metadata": {},
     "output_type": "display_data"
    },
    {
     "name": "stdout",
     "output_type": "stream",
     "text": [
      "Inverse of A(s):\n"
     ]
    },
    {
     "data": {
      "text/latex": [
       "$$\\left(\\left[\\begin{matrix}\\cos{\\left (\\theta \\right )} & - \\epsilon \\sin{\\left (\\theta \\right )}\\\\\\sin{\\left (\\theta \\right )} & \\epsilon \\cos{\\left (\\theta \\right )}\\end{matrix}\\right]\\right)^{-1}$$"
      ],
      "text/plain": [
       "                     -1\n",
       "⎛⎡cos(θ)  -ε⋅sin(θ)⎤⎞  \n",
       "⎜⎢                 ⎥⎟  \n",
       "⎝⎣sin(θ)  ε⋅cos(θ) ⎦⎠  "
      ]
     },
     "metadata": {},
     "output_type": "display_data"
    },
    {
     "name": "stdout",
     "output_type": "stream",
     "text": [
      "Vector relative degree is: (2, 2)\n"
     ]
    }
   ],
   "source": [
    "r1, r2, u = find_vector_relative_degree(f, g1, g2, s, h1(s), h2(s))\n",
    "print 'Vector relative degree is: ' + str((r1, r2))\n",
    "\n",
    "# Note to self: Didn't bother with putting in normal form. Why?\n",
    "# Vector rel. deg. was needed to compute the fbk linearzing control law.\n",
    "# Should I have put into normal form?"
   ]
  },
  {
   "cell_type": "markdown",
   "metadata": {},
   "source": [
    "### Discussion\n",
    "Since the above $A$ matrix is nonsingular, we'll derive the feedback linearizing control law per EE 222 lecture notes 18 page 13."
   ]
  },
  {
   "cell_type": "markdown",
   "metadata": {},
   "source": [
    "### Problem 2 continued\n",
    "#### Assume that the zero dynamics of the aircraft correspond to the aircraft flying at a constant altitude and constant horizontal velocity x' = v with v constant (trim). Derive the zero dynamics of the system. "
   ]
  },
  {
   "cell_type": "code",
   "execution_count": 18,
   "metadata": {
    "collapsed": false
   },
   "outputs": [
    {
     "name": "stdout",
     "output_type": "stream",
     "text": [
      "Zero dynamics in symbolic form:\n"
     ]
    },
    {
     "data": {
      "text/latex": [
       "$$\\left[\\begin{matrix}0\\\\v\\\\0\\\\0\\\\- \\frac{a_{D} v^{2}}{\\epsilon} \\sin{\\left (\\theta \\right )} - \\frac{1}{\\epsilon} \\left(a_{L} v^{2} \\left(c \\theta + 1\\right) - 1\\right) \\cos{\\left (\\theta \\right )}\\\\\\theta_{p}\\end{matrix}\\right]$$"
      ],
      "text/plain": [
       "⎡                       0                       ⎤\n",
       "⎢                                               ⎥\n",
       "⎢                       v                       ⎥\n",
       "⎢                                               ⎥\n",
       "⎢                       0                       ⎥\n",
       "⎢                                               ⎥\n",
       "⎢                       0                       ⎥\n",
       "⎢                                               ⎥\n",
       "⎢       2          ⎛     2              ⎞       ⎥\n",
       "⎢  a_D⋅v ⋅sin(θ)   ⎝a_L⋅v ⋅(c⋅θ + 1) - 1⎠⋅cos(θ)⎥\n",
       "⎢- ───────────── - ─────────────────────────────⎥\n",
       "⎢        ε                       ε              ⎥\n",
       "⎢                                               ⎥\n",
       "⎣                      θ_p                      ⎦"
      ]
     },
     "metadata": {},
     "output_type": "display_data"
    }
   ],
   "source": [
    "# Compute leftover dynamics after setting variables to zero dynamics values below:\n",
    "v = Symbol('v') # constant horizontal velocity\n",
    "alt = Symbol('alt') # constant vertical altitude\n",
    "\n",
    "# Set aux input v1,v2 to zero since we're looking at zero dynamics (but not u=0).\n",
    "# (First applied fbk linearizing control law, then set v1,v2 to zero.)\n",
    "# (Doing a whole bunch of substitutions to see what's leftover.)\n",
    "# (Vector relative degree (2, 2) so we expect 6 - 4 = 2 dimensional zero dynamics.)\n",
    "\n",
    "substitutions = {x_2p : 0., x_p : v,\n",
    "                 z_2p : 0., z_p : 0., z : alt,\n",
    "                 v1 : 0, v2 : 0} \n",
    "u_subbed = u.subs(substitutions)\n",
    "substitutions = {x_2p : 0., x_p : v,\n",
    "                 z_2p : 0., z_p : 0., z : alt,\n",
    "                 v1 : 0, v2 : 0,\n",
    "                 u1 : u_subbed[0], u2 : u_subbed[1]}\n",
    "\n",
    "print 'Zero dynamics in symbolic form:'\n",
    "leftover = s_p.subs(substitutions)\n",
    "leftover = trigsimp(leftover) # essential!!!\n",
    "display(leftover)"
   ]
  },
  {
   "cell_type": "code",
   "execution_count": 19,
   "metadata": {
    "collapsed": false,
    "scrolled": true
   },
   "outputs": [
    {
     "name": "stdout",
     "output_type": "stream",
     "text": [
      "Full 6 dimensional system dynamics evaluated for given parameters:\n"
     ]
    },
    {
     "data": {
      "text/latex": [
       "$$\\left[\\begin{matrix}0\\\\0.17\\\\0\\\\0\\\\- 10.0 \\left(5.202 \\theta - 0.133\\right) \\cos{\\left (\\theta \\right )} - 0.578 \\sin{\\left (\\theta \\right )}\\\\\\theta_{p}\\end{matrix}\\right]$$"
      ],
      "text/plain": [
       "⎡                      0                      ⎤\n",
       "⎢                                             ⎥\n",
       "⎢                    0.17                     ⎥\n",
       "⎢                                             ⎥\n",
       "⎢                      0                      ⎥\n",
       "⎢                                             ⎥\n",
       "⎢                      0                      ⎥\n",
       "⎢                                             ⎥\n",
       "⎢-10.0⋅(5.202⋅θ - 0.133)⋅cos(θ) - 0.578⋅sin(θ)⎥\n",
       "⎢                                             ⎥\n",
       "⎣                     θ_p                     ⎦"
      ]
     },
     "metadata": {},
     "output_type": "display_data"
    },
    {
     "name": "stdout",
     "output_type": "stream",
     "text": [
      "2 dimensional zero dynamics:\n"
     ]
    },
    {
     "data": {
      "text/latex": [
       "$$\\left[\\begin{matrix}\\theta_{p}\\\\- 10.0 \\left(5.202 \\theta - 0.133\\right) \\cos{\\left (\\theta \\right )} - 0.578 \\sin{\\left (\\theta \\right )}\\end{matrix}\\right]$$"
      ],
      "text/plain": [
       "⎡                     θ_p                     ⎤\n",
       "⎢                                             ⎥\n",
       "⎣-10.0⋅(5.202⋅θ - 0.133)⋅cos(θ) - 0.578⋅sin(θ)⎦"
      ]
     },
     "metadata": {},
     "output_type": "display_data"
    }
   ],
   "source": [
    "substitutions = {epsilon : 0.1, v : 0.17, a_D : 2., a_L : 30., c : 6.}\n",
    "leftover2 = leftover.subs(substitutions)\n",
    "print('Full 6 dimensional system dynamics evaluated for given parameters:')\n",
    "display(leftover2)\n",
    "\n",
    "# As expected, two dimensional dynamics leftover (theta , theta').\n",
    "lo = Matrix([leftover2[5], leftover2[4]])\n",
    "print('2 dimensional zero dynamics:')\n",
    "display(lo)\n",
    "\n",
    "# Lambda-fied vector field (fast!)\n",
    "lf = lambdify((theta, theta_p), lo)"
   ]
  },
  {
   "cell_type": "code",
   "execution_count": 12,
   "metadata": {
    "collapsed": false
   },
   "outputs": [],
   "source": [
    "# Plot zero dynamics phase portrait\n",
    "from scipy.integrate import odeint\n",
    "import matplotlib.pyplot as plt\n",
    "import matplotlib.ticker as tck\n",
    "\n",
    "def leftover_dynamics_DFE(x, t=0.0):\n",
    "    theta1 = x[0]\n",
    "    theta2 = x[1]\n",
    "    return lf(theta1, theta2).squeeze() # results in change from a 2x1 matrix to 2 dim vector."
   ]
  },
  {
   "cell_type": "code",
   "execution_count": 13,
   "metadata": {
    "collapsed": false
   },
   "outputs": [
    {
     "data": {
      "image/png": "[encoded data removed]",
      "text/plain": [
       "<matplotlib.figure.Figure at 0x107d0d610>"
      ]
     },
     "metadata": {},
     "output_type": "display_data"
    }
   ],
   "source": [
    "# Simulation of zero dynamics.\n",
    "\n",
    "t = np.linspace(0, 20, 1000)\n",
    "n = 24\n",
    "random_initial_conditions = np.random.uniform(low=-pi, high=pi, size=(n, 2))\n",
    "\n",
    "fig, ax = plt.subplots(figsize=(20,10))\n",
    "ax.xaxis.set_major_formatter(tck.FormatStrFormatter('%g $\\pi$'))\n",
    "ax.xaxis.set_major_locator(tck.MultipleLocator(base=1.0))\n",
    "ax.yaxis.set_major_formatter(tck.FormatStrFormatter('%g $\\pi$'))\n",
    "ax.yaxis.set_major_locator(tck.MultipleLocator(base=1.0))\n",
    "ax.set_xlabel('$\\Theta $', fontsize=24)\n",
    "ax.set_ylabel('$\\Theta$\\'', fontsize=24)\n",
    "ax.grid()\n",
    "\n",
    "for ic in random_initial_conditions:\n",
    "    trajectory = odeint(leftover_dynamics_DFE, ic, t) / pi # divide values by pi because of axis formatting\n",
    "    ax.plot(trajectory[:,0], trajectory[:,1], lw=0.5)"
   ]
  },
  {
   "cell_type": "markdown",
   "metadata": {},
   "source": [
    "### Discussion\n",
    "#### Can you predict from the zero dynamics what would actually happen if you used this control law for tracking for $\\epsilon$ values greater than 0?\n",
    "The zero dynamics suggest that the airplane would still maintain a constant altitude and horizontal velocity while tipping its nose up and down. For some initial conditions, the oscillations are of such large amplitude that the plane may break (and even loop around), which is not predicted by the zero dynamics.\n",
    "\n",
    "#### Can you suggest an alternative approximate control law (no need to derive it in functional form, just suggest how you would derive it)?\n",
    "A PID controller that compensates based on deviations from and accumulations of error (away from constant altitude and horizontal velocity)."
   ]
  }
 ],
 "metadata": {
  "celltoolbar": "Raw Cell Format",
  "kernelspec": {
   "display_name": "Python 2",
   "language": "python",
   "name": "python2"
  },
  "language_info": {
   "codemirror_mode": {
    "name": "ipython",
    "version": 2
   },
   "file_extension": ".py",
   "mimetype": "text/x-python",
   "name": "python",
   "nbconvert_exporter": "python",
   "pygments_lexer": "ipython2",
   "version": "2.7.10"
  }
 },
 "nbformat": 4,
 "nbformat_minor": 2
}
